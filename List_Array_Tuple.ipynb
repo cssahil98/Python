{
 "cells": [
  {
   "cell_type": "markdown",
   "metadata": {},
   "source": [
    "# List / Array"
   ]
  },
  {
   "cell_type": "code",
   "execution_count": 39,
   "metadata": {},
   "outputs": [],
   "source": [
    "# append()  : Adds element at the end of the list\n",
    "# clear()   : Removes all the elements from the list\n",
    "# copy()\t: Returns a copy of the list\n",
    "# count()\t: Returns the number of elements with the specified value\n",
    "# extend()  : Add the elements of a list (or any iterable), to the end of the current list\n",
    "# index()   : Returns the index of the first element with the specified value\n",
    "# insert()  : Adds an element at the specified position (index)\n",
    "# pop()\t    : Removes the element at the specified position (index)\n",
    "# remove()  : Removes the first item with the specified value (item)\n",
    "# reverse() : Reverses the order of the list\n",
    "# sort()    : Sorts the list\n",
    "# del[a:b]  : Delete element in list from index a to index b\n",
    "# in        : check if the element is present in list \n",
    "# not in    : check if the element is not present in list \n",
    "# len()     : length, sizz=e or no of elements in list\n",
    "# min()     : returns the minimum element of list\n",
    "# max()     : returns the maximum element of list"
   ]
  },
  {
   "cell_type": "code",
   "execution_count": 44,
   "metadata": {},
   "outputs": [],
   "source": [
    "# list  : mutable, can store different data type         lis = [1,2,'hello',3.0]\n",
    "# array : mutable, can store similar data type           arr = [1,2,3]\n",
    "# tuple : immutable, can store different data type       tup = ( 34, True, 4.0, \"male\")\n",
    "# set   : mutable, not ordered/ slice/ duplicate         set = {1,2,3}"
   ]
  },
  {
   "cell_type": "code",
   "execution_count": 6,
   "metadata": {},
   "outputs": [],
   "source": [
    "students = ['amartya','sahil','aryan','utkarsh','sachin','durgesh','david']"
   ]
  },
  {
   "cell_type": "code",
   "execution_count": 7,
   "metadata": {},
   "outputs": [
    {
     "name": "stdout",
     "output_type": "stream",
     "text": [
      "amartya\n",
      "sahil\n",
      "sachin\n",
      "david\n",
      "durgesh\n"
     ]
    }
   ],
   "source": [
    "print(students[0])   #start from left : index start from 0\n",
    "print(students[1])\n",
    "print(students[4])\n",
    "print(students[-1])  #start from right : index start from -1\n",
    "print(students[-2])"
   ]
  },
  {
   "cell_type": "code",
   "execution_count": 8,
   "metadata": {},
   "outputs": [
    {
     "ename": "IndexError",
     "evalue": "list index out of range",
     "output_type": "error",
     "traceback": [
      "\u001b[1;31m---------------------------------------------------------------------------\u001b[0m",
      "\u001b[1;31mIndexError\u001b[0m                                Traceback (most recent call last)",
      "\u001b[1;32m<ipython-input-8-c7cb3b6421f0>\u001b[0m in \u001b[0;36m<module>\u001b[1;34m\u001b[0m\n\u001b[1;32m----> 1\u001b[1;33m \u001b[0mprint\u001b[0m\u001b[1;33m(\u001b[0m\u001b[0mstudents\u001b[0m\u001b[1;33m[\u001b[0m\u001b[1;36m20\u001b[0m\u001b[1;33m]\u001b[0m\u001b[1;33m)\u001b[0m  \u001b[1;31m# out of index\u001b[0m\u001b[1;33m\u001b[0m\u001b[1;33m\u001b[0m\u001b[0m\n\u001b[0m",
      "\u001b[1;31mIndexError\u001b[0m: list index out of range"
     ]
    }
   ],
   "source": [
    "print(students[20])  # out of index"
   ]
  },
  {
   "cell_type": "code",
   "execution_count": 25,
   "metadata": {},
   "outputs": [],
   "source": [
    "# slicing : slice any part from list [start:end]\n",
    "# length of string = no of characters in string\n",
    "# length of list = no of elements in list\n",
    "\n",
    "students = ['sam','pam','rocky','austin','steve','banner','tony',\n",
    "            'bruce','henry','clark','diana']\n",
    "\n",
    "student = \"Barry\""
   ]
  },
  {
   "cell_type": "code",
   "execution_count": 20,
   "metadata": {},
   "outputs": [
    {
     "name": "stdout",
     "output_type": "stream",
     "text": [
      "['steve', 'banner', 'tony']\n",
      "ar\n"
     ]
    }
   ],
   "source": [
    "# slice a particular range\n",
    "\n",
    "marvel = students[4:7]   # 7th index doesn't counts\n",
    "flash = student[1:3]     \n",
    "\n",
    "print(marvel)\n",
    "print(flash)"
   ]
  },
  {
   "cell_type": "code",
   "execution_count": 21,
   "metadata": {},
   "outputs": [
    {
     "name": "stdout",
     "output_type": "stream",
     "text": [
      "['bruce', 'henry', 'clark', 'diana']\n",
      "arry\n"
     ]
    }
   ],
   "source": [
    "# slice from end\n",
    "\n",
    "dc = students[7:]      #from index 7 to the end\n",
    "flash = student[1:]\n",
    "\n",
    "print(dc)\n",
    "print(flash)"
   ]
  },
  {
   "cell_type": "code",
   "execution_count": 22,
   "metadata": {},
   "outputs": [
    {
     "name": "stdout",
     "output_type": "stream",
     "text": [
      "['sam', 'pam', 'rocky', 'austin']\n",
      "Bar\n"
     ]
    }
   ],
   "source": [
    "# slice from beigining\n",
    "\n",
    "normal = students[:4]   #from index 0 to 3\n",
    "flash = student[:3]\n",
    "\n",
    "print(normal)\n",
    "print(flash)"
   ]
  },
  {
   "cell_type": "code",
   "execution_count": 26,
   "metadata": {},
   "outputs": [
    {
     "name": "stdout",
     "output_type": "stream",
     "text": [
      "True False\n"
     ]
    }
   ],
   "source": [
    "# in = check wether the character is the string\n",
    "# not in = check wether the character is not in the string\n",
    "\n",
    "greeting = \"Hello there\"\n",
    "print('her' in greeting, 'her' not in greeting)"
   ]
  },
  {
   "cell_type": "code",
   "execution_count": 27,
   "metadata": {},
   "outputs": [
    {
     "name": "stdout",
     "output_type": "stream",
     "text": [
      "['sam', 'pam', 'ben', 'austin', 'steve', 'banner', 'tony', 'bruce', 'henry', 'clark', 'diana']\n"
     ]
    }
   ],
   "source": [
    "# list is mutable = it can be changed\n",
    "\n",
    "students = ['sam','pam','rocky','austin','steve','banner','tony',\n",
    "            'bruce','henry','clark','diana']\n",
    "\n",
    "students[2] = 'ben'\n",
    "print(students)"
   ]
  },
  {
   "cell_type": "code",
   "execution_count": 29,
   "metadata": {},
   "outputs": [
    {
     "ename": "TypeError",
     "evalue": "'str' object does not support item assignment",
     "output_type": "error",
     "traceback": [
      "\u001b[1;31m---------------------------------------------------------------------------\u001b[0m",
      "\u001b[1;31mTypeError\u001b[0m                                 Traceback (most recent call last)",
      "\u001b[1;32m<ipython-input-29-cfbde34a0fb8>\u001b[0m in \u001b[0;36m<module>\u001b[1;34m\u001b[0m\n\u001b[0;32m      2\u001b[0m \u001b[1;33m\u001b[0m\u001b[0m\n\u001b[0;32m      3\u001b[0m \u001b[0mstudent\u001b[0m \u001b[1;33m=\u001b[0m \u001b[1;34m\"Barry\"\u001b[0m\u001b[1;33m\u001b[0m\u001b[1;33m\u001b[0m\u001b[0m\n\u001b[1;32m----> 4\u001b[1;33m \u001b[0mstudent\u001b[0m\u001b[1;33m[\u001b[0m\u001b[1;36m1\u001b[0m\u001b[1;33m]\u001b[0m \u001b[1;33m=\u001b[0m \u001b[1;34m'e'\u001b[0m\u001b[1;33m\u001b[0m\u001b[1;33m\u001b[0m\u001b[0m\n\u001b[0m\u001b[0;32m      5\u001b[0m \u001b[0mprint\u001b[0m\u001b[1;33m(\u001b[0m\u001b[0mstudent\u001b[0m\u001b[1;33m)\u001b[0m\u001b[1;33m\u001b[0m\u001b[1;33m\u001b[0m\u001b[0m\n",
      "\u001b[1;31mTypeError\u001b[0m: 'str' object does not support item assignment"
     ]
    }
   ],
   "source": [
    "#string is immutable = you cannot change a single character inside string\n",
    "\n",
    "student = \"Barry\"\n",
    "student[1] = 'e'       # it will give error\n",
    "print(student)"
   ]
  },
  {
   "cell_type": "code",
   "execution_count": 30,
   "metadata": {},
   "outputs": [
    {
     "name": "stdout",
     "output_type": "stream",
     "text": [
      "Sahil\n",
      "Peter\n",
      "Sahil\n"
     ]
    }
   ],
   "source": [
    "# string is immutable, so to change string : make a copy\n",
    "\n",
    "student = \"Sahil\"\n",
    "character = student\n",
    "print(character)\n",
    "\n",
    "character = \"Peter\"\n",
    "print(character)\n",
    "print(student)"
   ]
  },
  {
   "cell_type": "code",
   "execution_count": 32,
   "metadata": {},
   "outputs": [
    {
     "name": "stdout",
     "output_type": "stream",
     "text": [
      "['sam', 'pam', 'rocky', 'austin']\n",
      "['sam', 'peter', 'rocky', 'austin']\n",
      "['sam', 'peter', 'rocky', 'austin']\n"
     ]
    }
   ],
   "source": [
    "# lists are mutable\n",
    "\n",
    "students = ['sam','pam','rocky','austin']\n",
    "\n",
    "characters = students\n",
    "print(characters)\n",
    "\n",
    "characters[1] = \"peter\"  # changing the element with index 1\n",
    "print(characters)\n",
    "print(students)"
   ]
  },
  {
   "cell_type": "code",
   "execution_count": 2,
   "metadata": {},
   "outputs": [],
   "source": [
    "students = ['sam','pam','rocky','austin','steve','banner','tony',\n",
    "            'bruce','henry','clark','diana']"
   ]
  },
  {
   "cell_type": "code",
   "execution_count": 3,
   "metadata": {},
   "outputs": [
    {
     "data": {
      "text/plain": [
       "11"
      ]
     },
     "execution_count": 3,
     "metadata": {},
     "output_type": "execute_result"
    }
   ],
   "source": [
    "len(students)      # length = no of elements in list"
   ]
  },
  {
   "cell_type": "code",
   "execution_count": 4,
   "metadata": {},
   "outputs": [
    {
     "data": {
      "text/plain": [
       "'tony'"
      ]
     },
     "execution_count": 4,
     "metadata": {},
     "output_type": "execute_result"
    }
   ],
   "source": [
    "max(students)      # max = greatest element ( ASCII way ) in list"
   ]
  },
  {
   "cell_type": "code",
   "execution_count": 5,
   "metadata": {},
   "outputs": [
    {
     "data": {
      "text/plain": [
       "'austin'"
      ]
     },
     "execution_count": 5,
     "metadata": {},
     "output_type": "execute_result"
    }
   ],
   "source": [
    "min(students)      # min = smallest element ( ASCII way ) in list"
   ]
  },
  {
   "cell_type": "code",
   "execution_count": 6,
   "metadata": {},
   "outputs": [
    {
     "data": {
      "text/plain": [
       "['austin',\n",
       " 'banner',\n",
       " 'bruce',\n",
       " 'clark',\n",
       " 'diana',\n",
       " 'henry',\n",
       " 'pam',\n",
       " 'rocky',\n",
       " 'sam',\n",
       " 'steve',\n",
       " 'tony']"
      ]
     },
     "execution_count": 6,
     "metadata": {},
     "output_type": "execute_result"
    }
   ],
   "source": [
    "sorted(students)   # sort = ascending form in ASCII way in list"
   ]
  },
  {
   "cell_type": "code",
   "execution_count": 7,
   "metadata": {},
   "outputs": [
    {
     "name": "stdout",
     "output_type": "stream",
     "text": [
      "y\n"
     ]
    }
   ],
   "source": [
    "student = \"barry\"\n",
    "print(max(student))   # gratest character in string "
   ]
  },
  {
   "cell_type": "code",
   "execution_count": 8,
   "metadata": {},
   "outputs": [
    {
     "data": {
      "text/plain": [
       "'aaba'"
      ]
     },
     "execution_count": 8,
     "metadata": {},
     "output_type": "execute_result"
    }
   ],
   "source": [
    "word = ['aab','aaba']\n",
    "max(word)"
   ]
  },
  {
   "cell_type": "code",
   "execution_count": 10,
   "metadata": {},
   "outputs": [
    {
     "name": "stdout",
     "output_type": "stream",
     "text": [
      "['austin', 'banner', 'bruce', 'clark', 'diana', 'henry', 'pam', 'rocky', 'sam', 'steve', 'tony']\n"
     ]
    }
   ],
   "source": [
    "#sorting a list and diplay copy of it\n",
    "\n",
    "characters = sorted(students)\n",
    "print (characters)"
   ]
  },
  {
   "cell_type": "code",
   "execution_count": 11,
   "metadata": {},
   "outputs": [
    {
     "name": "stdout",
     "output_type": "stream",
     "text": [
      "Jack-0-Lantern\n"
     ]
    }
   ],
   "source": [
    "# join() = add any symbol or anything between each elements of list\n",
    "\n",
    "sep_str = \"-\".join([\"Jack\",\"0\",\"Lantern\"])\n",
    "print(sep_str)"
   ]
  },
  {
   "cell_type": "code",
   "execution_count": 12,
   "metadata": {},
   "outputs": [
    {
     "name": "stdout",
     "output_type": "stream",
     "text": [
      "['a', 'b', 'c', 'd', 'e']\n"
     ]
    }
   ],
   "source": [
    "# append() = add element to list\n",
    "\n",
    "letters = ['a','b','c','d']\n",
    "letters.append('e')\n",
    "print(letters)"
   ]
  },
  {
   "cell_type": "code",
   "execution_count": 38,
   "metadata": {},
   "outputs": [
    {
     "name": "stdout",
     "output_type": "stream",
     "text": [
      "List is having element with value 4\n",
      "List is not having element with value 7\n"
     ]
    }
   ],
   "source": [
    "lis = [1, 4, 3, 2, 5]\n",
    "\n",
    "if 4 in lis:\n",
    "    print (\"List is having element with value 4\")      # checking in\n",
    "else :  \n",
    "    print (\"List is not having element with value 4\")\n",
    "\n",
    "if 7 not in lis:\n",
    "    print (\"List is not having element with value 7\")  # checking not in \n",
    "else :  \n",
    "    print (\"List is having element with value 7\")"
   ]
  },
  {
   "cell_type": "code",
   "execution_count": 42,
   "metadata": {},
   "outputs": [
    {
     "name": "stdout",
     "output_type": "stream",
     "text": [
      "List elements before deleting are :  [2, 1, 3, 5, 4, 3, 8]\n",
      "List elements after deleting are : 2 1 3 8 "
     ]
    }
   ],
   "source": [
    "lis = [2, 1, 3, 5, 4, 3, 8]\n",
    "print (\"List elements before deleting are : \",lis)\n",
    "\n",
    "del lis[2 : 5]   # delete element from index 2 to 5\n",
    "  \n",
    "print (\"List elements after deleting are : \",end=\"\")  \n",
    "for i in range(0, len(lis)):\n",
    "    print(lis[i], end=\" \")"
   ]
  },
  {
   "cell_type": "markdown",
   "metadata": {},
   "source": [
    "# Tuples"
   ]
  },
  {
   "cell_type": "code",
   "execution_count": 13,
   "metadata": {},
   "outputs": [
    {
     "name": "stdout",
     "output_type": "stream",
     "text": [
      "x-cooridnate: 4\n",
      "y-cooridnate: 5\n",
      "z-cooridnate: 6\n"
     ]
    }
   ],
   "source": [
    "# Tuples = immutable ordered sequence of elements\n",
    "#        = used to store related piece of information\n",
    "#        = but can't add, remove or sort elements\n",
    "\n",
    "vector = (4, 5, 6)\n",
    "print(\"x-cooridnate:\", vector[0])\n",
    "print(\"y-cooridnate:\", vector[1])\n",
    "print(\"z-cooridnate:\", vector[2])"
   ]
  },
  {
   "cell_type": "code",
   "execution_count": 14,
   "metadata": {},
   "outputs": [
    {
     "name": "stdout",
     "output_type": "stream",
     "text": [
      "The coordinates are 108.7774 x 92.5556\n"
     ]
    }
   ],
   "source": [
    "location = 108.7774, 92.5556\n",
    "latitude, longitude = location\n",
    "print(\"The coordinates are {} x {}\".format(latitude, longitude))"
   ]
  },
  {
   "cell_type": "code",
   "execution_count": 16,
   "metadata": {},
   "outputs": [
    {
     "name": "stdout",
     "output_type": "stream",
     "text": [
      "New York\n",
      "Chicago\n",
      "Los Angeles\n",
      "Mumbai\n",
      "Done!\n"
     ]
    }
   ],
   "source": [
    "# for loop\n",
    "\n",
    "cities = ['New York','Chicago','Los Angeles','Mumbai']\n",
    "for city in cities:\n",
    "    print (city)\n",
    "print(\"Done!\")"
   ]
  },
  {
   "cell_type": "code",
   "execution_count": 17,
   "metadata": {},
   "outputs": [
    {
     "name": "stdout",
     "output_type": "stream",
     "text": [
      "Hello!\n",
      "Hello!\n",
      "Hello!\n"
     ]
    }
   ],
   "source": [
    "for i in range(3):\n",
    "    print(\"Hello!\")"
   ]
  },
  {
   "cell_type": "code",
   "execution_count": 19,
   "metadata": {},
   "outputs": [
    {
     "name": "stdout",
     "output_type": "stream",
     "text": [
      "1\n",
      "3\n",
      "5\n",
      "7\n",
      "9\n"
     ]
    }
   ],
   "source": [
    "for i in range(1,10,2):  # start =1, end=10, step=2 \n",
    "    print(i)"
   ]
  },
  {
   "cell_type": "code",
   "execution_count": 31,
   "metadata": {},
   "outputs": [
    {
     "name": "stdout",
     "output_type": "stream",
     "text": [
      "3\n"
     ]
    }
   ],
   "source": [
    "# length of tuple\n",
    "\n",
    "tup1 = (\"apple\", \"banana\", \"mango\")\n",
    "print(len(tup1))"
   ]
  },
  {
   "cell_type": "code",
   "execution_count": 24,
   "metadata": {},
   "outputs": [
    {
     "name": "stdout",
     "output_type": "stream",
     "text": [
      "<class 'tuple'>\n",
      "<class 'str'>\n"
     ]
    }
   ],
   "source": [
    "tup2 = (\"apple\",)\n",
    "print(type(tup2))\n",
    "\n",
    "#NOT a tuple\n",
    "tup3 = (\"apple\")\n",
    "print(type(tup3))"
   ]
  },
  {
   "cell_type": "code",
   "execution_count": 30,
   "metadata": {},
   "outputs": [
    {
     "name": "stdout",
     "output_type": "stream",
     "text": [
      "('abc', 34, True, 40, 'male')\n"
     ]
    }
   ],
   "source": [
    "# tuple can accept any data type\n",
    "\n",
    "tup4 = (\"abc\", 34, True, 40, \"male\")\n",
    "print (tup4)"
   ]
  },
  {
   "cell_type": "code",
   "execution_count": 34,
   "metadata": {},
   "outputs": [
    {
     "name": "stdout",
     "output_type": "stream",
     "text": [
      "('apple', 'banana', 'mango')\n"
     ]
    }
   ],
   "source": [
    "# tuple() method to make a tuple\n",
    "\n",
    "tup5 = tuple((\"apple\", \"banana\", \"mango\")) # note: double round-brackets\n",
    "print(tup5)"
   ]
  }
 ],
 "metadata": {
  "kernelspec": {
   "display_name": "Python 3",
   "language": "python",
   "name": "python3"
  },
  "language_info": {
   "codemirror_mode": {
    "name": "ipython",
    "version": 3
   },
   "file_extension": ".py",
   "mimetype": "text/x-python",
   "name": "python",
   "nbconvert_exporter": "python",
   "pygments_lexer": "ipython3",
   "version": "3.8.5"
  }
 },
 "nbformat": 4,
 "nbformat_minor": 4
}
